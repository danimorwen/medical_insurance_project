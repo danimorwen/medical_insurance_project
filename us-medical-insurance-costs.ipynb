{
 "cells": [
  {
   "cell_type": "markdown",
   "metadata": {},
   "source": [
    "# U.S. Medical Insurance Costs"
   ]
  },
  {
   "cell_type": "markdown",
   "metadata": {},
   "source": [
    "### Project questions:\n",
    "\n",
    "* What is the insurance charge average by gender?\n",
    "* Is there a difference between women with children vs man with children?\n",
    "* What characteristics affects the cost for medical insurance?\n",
    "* What make the insurance cost higher?\n",
    "* What region have the highest insurance charge? And why?\n",
    "* Which age group buy more insurance?"
   ]
  },
  {
   "cell_type": "code",
   "execution_count": 1,
   "metadata": {},
   "outputs": [],
   "source": [
    "import csv\n"
   ]
  },
  {
   "cell_type": "code",
   "execution_count": 2,
   "metadata": {},
   "outputs": [],
   "source": [
    "class Insured:\n",
    "    def __init__(self, age, gender, bmi, children, smoker, region, charges):\n",
    "        self.age = int(age)\n",
    "        self.gender = gender\n",
    "        self.bmi = round(float(bmi), 1)\n",
    "        self.children = int(children)\n",
    "        self.smoker = True if smoker == \"yes\" else False\n",
    "        self.region = region\n",
    "        self.charges = float(charges)\n",
    "\n",
    "    def __repr__(self):\n",
    "        return f\"\"\"\n",
    "        Age: {self.age}\n",
    "        Gender: {self.gender}\n",
    "        BMI: {self.bmi}\n",
    "        Number of children: {self.children}\n",
    "        Smoker status: {self.smoker}\n",
    "        Region: {self.region}\n",
    "        Insurance charges: ${round(self.charges, 2)}\n",
    "        \"\"\"\n"
   ]
  },
  {
   "cell_type": "code",
   "execution_count": 3,
   "metadata": {},
   "outputs": [],
   "source": [
    "class Insights:\n",
    "    def __init__(self, insured_list):\n",
    "        self.insured_list = insured_list\n",
    "        self.build_dict_by_gender()\n",
    "        self.build_dict_by_smoker()\n",
    "        self.build_dict_by_region()\n",
    "        self.build_dict_by_age()\n",
    "        self.build_dict_by_bmi()\n",
    "\n",
    "    def build_dict_by_gender(self):\n",
    "        self.insured_by_gender = {}\n",
    "        for insured in self.insured_list:\n",
    "            if insured.gender not in self.insured_by_gender:\n",
    "                self.insured_by_gender[insured.gender] = [insured]\n",
    "            else:\n",
    "                self.insured_by_gender[insured.gender].append(insured)\n",
    "\n",
    "    def build_dict_by_smoker(self):\n",
    "        self.insured_by_smoker = {}\n",
    "        for insured in self.insured_list:\n",
    "            if insured.smoker not in self.insured_by_smoker:\n",
    "                self.insured_by_smoker[insured.smoker] = [insured]\n",
    "            else:\n",
    "                self.insured_by_smoker[insured.smoker].append(insured)\n",
    "\n",
    "    def build_dict_by_region(self):\n",
    "        self.insured_by_region = {}\n",
    "        for insured in self.insured_list:\n",
    "            if insured.region not in self.insured_by_region:\n",
    "                self.insured_by_region[insured.region] = [insured]\n",
    "            else:\n",
    "                self.insured_by_region[insured.region].append(insured)\n",
    "\n",
    "    def build_dict_by_age(self):\n",
    "        self.insured_by_age = {}\n",
    "        for insured in self.insured_list:\n",
    "            key = \"Under 18\"\n",
    "            if insured.age >= 18 and insured.age < 25:\n",
    "                key = \"18-24\"\n",
    "            elif insured.age >= 25 and insured.age < 35:\n",
    "                key = \"25-34\"\n",
    "            elif insured.age >= 35 and insured.age < 45:\n",
    "                key = \"35-44\"\n",
    "            elif insured.age >= 45 and insured.age < 55:\n",
    "                key = \"45-54\"\n",
    "            elif insured.age >= 55 and insured.age < 65:\n",
    "                key = \"55-64\"\n",
    "            elif insured.age >= 65:\n",
    "                key = \"65 or older\"\n",
    "            if key not in self.insured_by_age:\n",
    "                self.insured_by_age[key] = [insured]\n",
    "            else:\n",
    "                self.insured_by_age[key].append(insured)\n",
    "\n",
    "    def build_dict_by_bmi(self):\n",
    "        self.insured_by_bmi = {}\n",
    "        for insured in self.insured_list:\n",
    "            key = \"Underweight\"\n",
    "            if insured.bmi >= 18.5 and insured.bmi < 25.0:\n",
    "                key = \"Normal weight\"\n",
    "            elif insured.bmi >= 25.0 and insured.bmi < 30.0:\n",
    "                key = \"Overweight\"\n",
    "            elif insured.bmi >= 30.0 and insured.bmi < 35.0:\n",
    "                key = \"Obesity first degree\"\n",
    "            elif insured.bmi >= 35.0 and insured.bmi < 40.0:\n",
    "                key = \"Obesity second degree\"\n",
    "            elif insured.bmi >= 40.0:\n",
    "                key = \"Obesity third degree\"\n",
    "            if key not in self.insured_by_bmi:\n",
    "                self.insured_by_bmi[key] = [insured]\n",
    "            else:\n",
    "                self.insured_by_bmi[key].append(insured)\n",
    "\n",
    "    def filter_by_children(self, list):\n",
    "        insured_by_children = {}\n",
    "        for insured in list:\n",
    "            key = \"With children\"\n",
    "            if insured.children == 0:\n",
    "                key = \"Without children\"\n",
    "            if key not in insured_by_children:\n",
    "                insured_by_children[key] = [insured]\n",
    "            else:\n",
    "                insured_by_children[key].append(insured)\n",
    "        return insured_by_children\n",
    "\n",
    "    def calculate_bmi_average(self, list):\n",
    "        total_of_bmi = 0\n",
    "        for insured in list:\n",
    "            total_of_bmi += insured.bmi\n",
    "        return round(total_of_bmi / len(list), 2)\n",
    "\n",
    "    def calculate_average_children(self, list):\n",
    "        total_of_children = 0\n",
    "        for insured in list:\n",
    "            total_of_children += insured.children\n",
    "        return round(total_of_children / len(list), 0)\n",
    "\n",
    "    def calculate_average_cost(self, list):\n",
    "        total_cost = 0\n",
    "        for insured in list:\n",
    "            total_cost += insured.charges\n",
    "        return round(total_cost / len(list), 2)\n",
    "\n",
    "    def calculate_average_age(self, list):\n",
    "        total_age = 0\n",
    "        for insured in list:\n",
    "            total_age += insured.age\n",
    "        return round(total_age / len(list), 2)\n",
    "\n",
    "    def calculate_difference(self, value1, value2):\n",
    "        return abs(round(((value1 / value2) * 100) - 100, 0))\n",
    "\n",
    "    def calculate_percentage(self, value1, value2):\n",
    "        return abs(round((value1 / value2) * 100, 0))\n"
   ]
  },
  {
   "cell_type": "code",
   "execution_count": 4,
   "metadata": {},
   "outputs": [],
   "source": [
    "with open(\"insurance.csv\") as csv_file:\n",
    "    insurance_file = csv.DictReader(csv_file)\n",
    "\n",
    "    insured_list = []\n",
    "    for row in insurance_file:\n",
    "        insured_list.append(\n",
    "            Insured(\n",
    "                row[\"age\"],\n",
    "                row[\"sex\"],\n",
    "                row[\"bmi\"],\n",
    "                row[\"children\"],\n",
    "                row[\"smoker\"],\n",
    "                row[\"region\"],\n",
    "                row[\"charges\"],\n",
    "            )\n",
    "        )\n"
   ]
  },
  {
   "cell_type": "code",
   "execution_count": 5,
   "metadata": {},
   "outputs": [],
   "source": [
    "insight = Insights(insured_list)\n"
   ]
  },
  {
   "cell_type": "markdown",
   "metadata": {},
   "source": [
    "### Gender metrics"
   ]
  },
  {
   "cell_type": "code",
   "execution_count": 6,
   "metadata": {},
   "outputs": [
    {
     "name": "stdout",
     "output_type": "stream",
     "text": [
      "There are 662 women and 676 men insured. Men represent 51.0% of all insured.\n"
     ]
    }
   ],
   "source": [
    "total_of_women = len(insight.insured_by_gender[\"female\"])\n",
    "total_of_men = len(insight.insured_by_gender[\"male\"])\n",
    "total_of_insured = len(insight.insured_list)\n",
    "\n",
    "percentage_men = insight.calculate_percentage(total_of_men, total_of_insured)\n",
    "\n",
    "print(\n",
    "    f\"There are {total_of_women} women and {total_of_men} men insured. Men represent {percentage_men}% of all insured.\"\n",
    ")\n"
   ]
  },
  {
   "cell_type": "markdown",
   "metadata": {},
   "source": [
    "### Average of insurance charge by gender"
   ]
  },
  {
   "cell_type": "code",
   "execution_count": 7,
   "metadata": {},
   "outputs": [
    {
     "name": "stdout",
     "output_type": "stream",
     "text": [
      "The overall average of insurance charge is: $ 13270.42 dollars.\n",
      "The average of insurance charge for women is: $12569.58 dollars.\n",
      "The average of insurance charge for men is: $13956.75 dollars.\n",
      "If we analyze only gender, men pay about 11.0% more than women for medical insurance.\n"
     ]
    }
   ],
   "source": [
    "insurance_average = insight.calculate_average_cost(insight.insured_list)\n",
    "insurance_average_women = insight.calculate_average_cost(\n",
    "    insight.insured_by_gender[\"female\"]\n",
    ")\n",
    "insurance_average_men = insight.calculate_average_cost(\n",
    "    insight.insured_by_gender[\"male\"]\n",
    ")\n",
    "percentage = insight.calculate_difference(\n",
    "    insurance_average_men, insurance_average_women\n",
    ")\n",
    "\n",
    "print(f\"The overall average of insurance charge is: $ {insurance_average} dollars.\")\n",
    "print(\n",
    "    f\"The average of insurance charge for women is: ${insurance_average_women} dollars.\"\n",
    ")\n",
    "print(f\"The average of insurance charge for men is: ${insurance_average_men} dollars.\")\n",
    "print(\n",
    "    f\"If we analyze only gender, men pay about {percentage}% more than women for medical insurance.\"\n",
    ")\n"
   ]
  },
  {
   "cell_type": "markdown",
   "metadata": {},
   "source": [
    "### Parents metrics"
   ]
  },
  {
   "cell_type": "code",
   "execution_count": 8,
   "metadata": {},
   "outputs": [
    {
     "name": "stdout",
     "output_type": "stream",
     "text": [
      "There are 764 parents and this represents 44.0% of all insured.\n",
      "There are 289 women without children and this represents 57.0% of all women.\n",
      "There are 285 men without children and this represents 42.0% of all men.\n"
     ]
    }
   ],
   "source": [
    "people_with_children = len(\n",
    "    insight.filter_by_children(insight.insured_list)[\"With children\"]\n",
    ")\n",
    "women_without_children = len(\n",
    "    insight.filter_by_children(insight.insured_by_gender[\"female\"])[\"Without children\"]\n",
    ")\n",
    "men_without_children = len(\n",
    "    insight.filter_by_children(insight.insured_by_gender[\"male\"])[\"Without children\"]\n",
    ")\n",
    "parent_percentage = insight.calculate_percentage(women_without_children, total_of_women)\n",
    "women_percentage = insight.calculate_percentage(people_with_children, total_of_insured)\n",
    "men_percentage = insight.calculate_percentage(men_without_children, total_of_men)\n",
    "\n",
    "print(\n",
    "    f\"There are {people_with_children} parents and this represents {parent_percentage}% of all insured.\"\n",
    ")\n",
    "print(\n",
    "    f\"There are {women_without_children} women without children and this represents {women_percentage}% of all women.\"\n",
    ")\n",
    "print(\n",
    "    f\"There are {men_without_children} men without children and this represents {men_percentage}% of all men.\"\n",
    ")\n"
   ]
  },
  {
   "cell_type": "markdown",
   "metadata": {},
   "source": [
    "### Average of children by gender"
   ]
  },
  {
   "cell_type": "code",
   "execution_count": 9,
   "metadata": {},
   "outputs": [
    {
     "name": "stdout",
     "output_type": "stream",
     "text": [
      "The average number of children for women are: 1.0.\n",
      "The average number of children for men are: 1.0.\n"
     ]
    }
   ],
   "source": [
    "average_children_for_women = insight.calculate_average_children(\n",
    "    insight.insured_by_gender[\"female\"]\n",
    ")\n",
    "average_children_for_men = insight.calculate_average_children(\n",
    "    insight.insured_by_gender[\"male\"]\n",
    ")\n",
    "\n",
    "print(f\"The average number of children for women are: {average_children_for_women}.\")\n",
    "print(f\"The average number of children for men are: {average_children_for_men}.\")\n"
   ]
  },
  {
   "cell_type": "markdown",
   "metadata": {},
   "source": [
    "### Average charge for parents"
   ]
  },
  {
   "cell_type": "code",
   "execution_count": 10,
   "metadata": {},
   "outputs": [
    {
     "name": "stdout",
     "output_type": "stream",
     "text": [
      "The average insurance charge for people with children is $13949.94 dollars, that is 13.0% more than people without children.\n",
      "The average for people without children is: $12365.98 dollars.\n"
     ]
    }
   ],
   "source": [
    "average_cost_parents = insight.calculate_average_cost(\n",
    "    insight.filter_by_children(insight.insured_list)[\"With children\"]\n",
    ")\n",
    "average_cost_without_children = insight.calculate_average_cost(\n",
    "    insight.filter_by_children(insight.insured_list)[\"Without children\"]\n",
    ")\n",
    "percentage_parents = insight.calculate_difference(\n",
    "    average_cost_parents, average_cost_without_children\n",
    ")\n",
    "\n",
    "print(\n",
    "    f\"The average insurance charge for people with children is ${average_cost_parents} dollars, that is {percentage_parents}% more than people without children.\"\n",
    ")\n",
    "print(\n",
    "    f\"The average for people without children is: ${average_cost_without_children} dollars.\"\n",
    ")\n"
   ]
  },
  {
   "cell_type": "markdown",
   "metadata": {},
   "source": [
    "### Smoker status metrics"
   ]
  },
  {
   "cell_type": "code",
   "execution_count": 11,
   "metadata": {},
   "outputs": [
    {
     "name": "stdout",
     "output_type": "stream",
     "text": [
      " Smokers represent 20.0% of all insured.\n"
     ]
    }
   ],
   "source": [
    "smokers = list(filter(lambda insured: insured.smoker, insight.insured_list))\n",
    "percentage_smokers = insight.calculate_percentage(len(smokers), len(insured_list))\n",
    "print(f\" Smokers represent {percentage_smokers}% of all insured.\")\n"
   ]
  },
  {
   "cell_type": "markdown",
   "metadata": {},
   "source": [
    "### Average of insurance charge by smoker status"
   ]
  },
  {
   "cell_type": "code",
   "execution_count": 12,
   "metadata": {},
   "outputs": [
    {
     "name": "stdout",
     "output_type": "stream",
     "text": [
      "The average of insurance charge for a person who smokes is: $32050.23 dollars.\n",
      "The average of insurance charge for someone who does not smoke is: $8434.27 dollars.\n",
      "If we analyze only the smoker status, a smoker pays 280.0% more than a non smoker.\n"
     ]
    }
   ],
   "source": [
    "insurance_average_smoker = insight.calculate_average_cost(\n",
    "    insight.insured_by_smoker[True]\n",
    ")\n",
    "insurance_average_non_smoker = insight.calculate_average_cost(\n",
    "    insight.insured_by_smoker[False]\n",
    ")\n",
    "percentage = insight.calculate_difference(\n",
    "    insurance_average_smoker, insurance_average_non_smoker\n",
    ")\n",
    "\n",
    "print(\n",
    "    f\"The average of insurance charge for a person who smokes is: ${insurance_average_smoker} dollars.\"\n",
    ")\n",
    "print(\n",
    "    f\"The average of insurance charge for someone who does not smoke is: ${insurance_average_non_smoker} dollars.\"\n",
    ")\n",
    "print(\n",
    "    f\"If we analyze only the smoker status, a smoker pays {percentage}% more than a non smoker.\"\n",
    ")\n"
   ]
  },
  {
   "cell_type": "markdown",
   "metadata": {},
   "source": [
    "### Percentage of smoker by gender"
   ]
  },
  {
   "cell_type": "code",
   "execution_count": 13,
   "metadata": {},
   "outputs": [
    {
     "name": "stdout",
     "output_type": "stream",
     "text": [
      "Smoker women represent 17.0% of all women. Their average insurance charge is $30679.0 dollars.\n",
      "Smoker men represent 24.0% of all men. Their average insurance charge is $33042.01 dollars.\n"
     ]
    }
   ],
   "source": [
    "smoker_women = list(\n",
    "    filter(lambda insured: insured.smoker, insight.insured_by_gender[\"female\"])\n",
    ")\n",
    "smoker_men = list(\n",
    "    filter(lambda insured: insured.smoker, insight.insured_by_gender[\"male\"])\n",
    ")\n",
    "percentage_smoker_women = insight.calculate_percentage(\n",
    "    len(smoker_women), total_of_women\n",
    ")\n",
    "percentage_smoker_men = insight.calculate_percentage(len(smoker_men), total_of_men)\n",
    "average_cost_smoker_women = insight.calculate_average_cost(smoker_women)\n",
    "average_cost_smoker_men = insight.calculate_average_cost(smoker_men)\n",
    "\n",
    "print(\n",
    "    f\"Smoker women represent {percentage_smoker_women}% of all women. Their average insurance charge is ${average_cost_smoker_women} dollars.\"\n",
    ")\n",
    "print(\n",
    "    f\"Smoker men represent {percentage_smoker_men}% of all men. Their average insurance charge is ${average_cost_smoker_men} dollars.\"\n",
    ")\n"
   ]
  },
  {
   "cell_type": "markdown",
   "metadata": {},
   "source": [
    "### Percentage of non smoker by gender"
   ]
  },
  {
   "cell_type": "code",
   "execution_count": 14,
   "metadata": {},
   "outputs": [
    {
     "name": "stdout",
     "output_type": "stream",
     "text": [
      "Non smoker women represent 83.0% of all women. Their average insurance charge is $8762.3 dollars.\n",
      "Non smoker men represent 76.0% of all men. Their average insurance charge is $8087.2 dollars.\n",
      "Women pay 8.0% more than men, between non smokers.\n"
     ]
    }
   ],
   "source": [
    "non_smoker_women = list(\n",
    "    filter(lambda insured: not insured.smoker, insight.insured_by_gender[\"female\"])\n",
    ")\n",
    "non_smoker_men = list(\n",
    "    filter(lambda insured: not insured.smoker, insight.insured_by_gender[\"male\"])\n",
    ")\n",
    "percentage_nonsmoker_women = insight.calculate_percentage(\n",
    "    len(non_smoker_women), total_of_women\n",
    ")\n",
    "percentage_nonsmoker_men = insight.calculate_percentage(\n",
    "    len(non_smoker_men), total_of_men\n",
    ")\n",
    "average_cost_nonsmoker_women = insight.calculate_average_cost(non_smoker_women)\n",
    "average_cost_nonsmoker_men = insight.calculate_average_cost(non_smoker_men)\n",
    "difference_cost = insight.calculate_difference(\n",
    "    average_cost_nonsmoker_women, average_cost_nonsmoker_men\n",
    ")\n",
    "\n",
    "print(\n",
    "    f\"Non smoker women represent {percentage_nonsmoker_women}% of all women. Their average insurance charge is ${average_cost_nonsmoker_women} dollars.\"\n",
    ")\n",
    "print(\n",
    "    f\"Non smoker men represent {percentage_nonsmoker_men}% of all men. Their average insurance charge is ${average_cost_nonsmoker_men} dollars.\"\n",
    ")\n",
    "print(f\"Women pay {difference_cost}% more than men, between non smokers.\")\n"
   ]
  },
  {
   "cell_type": "markdown",
   "metadata": {},
   "source": [
    "### Region metrics"
   ]
  },
  {
   "cell_type": "code",
   "execution_count": 15,
   "metadata": {},
   "outputs": [
    {
     "data": {
      "text/plain": [
       "dict_keys(['southwest', 'southeast', 'northwest', 'northeast'])"
      ]
     },
     "execution_count": 15,
     "metadata": {},
     "output_type": "execute_result"
    }
   ],
   "source": [
    "insight.insured_by_region.keys()\n"
   ]
  },
  {
   "cell_type": "code",
   "execution_count": 16,
   "metadata": {},
   "outputs": [
    {
     "name": "stdout",
     "output_type": "stream",
     "text": [
      "The residents of Southeast region represent 27.0% of the insured.\n",
      "The residents of Southwest region represent 24.0% of the insured.\n",
      "The residents of Northeast region represent 24.0% of the insured.\n",
      "The residents of Northwest region represent 24.0% of the insured.\n"
     ]
    }
   ],
   "source": [
    "insured_from_southeast = insight.calculate_percentage(\n",
    "    len(insight.insured_by_region[\"southeast\"]), len(insight.insured_list)\n",
    ")\n",
    "insured_from_southwest = insight.calculate_percentage(\n",
    "    len(insight.insured_by_region[\"southwest\"]), len(insight.insured_list)\n",
    ")\n",
    "insured_from_northeast = insight.calculate_percentage(\n",
    "    len(insight.insured_by_region[\"northeast\"]), len(insight.insured_list)\n",
    ")\n",
    "insured_from_northwest = insight.calculate_percentage(\n",
    "    len(insight.insured_by_region[\"northwest\"]), len(insight.insured_list)\n",
    ")\n",
    "\n",
    "print(\n",
    "    f\"The residents of Southeast region represent {insured_from_southeast}% of the insured.\"\n",
    ")\n",
    "print(\n",
    "    f\"The residents of Southwest region represent {insured_from_southwest}% of the insured.\"\n",
    ")\n",
    "print(\n",
    "    f\"The residents of Northeast region represent {insured_from_northeast}% of the insured.\"\n",
    ")\n",
    "print(\n",
    "    f\"The residents of Northwest region represent {insured_from_northwest}% of the insured.\"\n",
    ")\n"
   ]
  },
  {
   "cell_type": "markdown",
   "metadata": {},
   "source": [
    "### Average by region"
   ]
  },
  {
   "cell_type": "code",
   "execution_count": 17,
   "metadata": {},
   "outputs": [
    {
     "name": "stdout",
     "output_type": "stream",
     "text": [
      "The average cost for the Northwest region is $12417.58.\n",
      "The average cost for the Northeast region is $13406.38.\n",
      "The average cost for the Southwest region is $12346.94.\n",
      "The average cost for the Southeast region is $14735.41.\n"
     ]
    }
   ],
   "source": [
    "northwest_average = insight.calculate_average_cost(\n",
    "    insight.insured_by_region[\"northwest\"]\n",
    ")\n",
    "northeast_average = insight.calculate_average_cost(\n",
    "    insight.insured_by_region[\"northeast\"]\n",
    ")\n",
    "southwest_average = insight.calculate_average_cost(\n",
    "    insight.insured_by_region[\"southwest\"]\n",
    ")\n",
    "southeast_average = insight.calculate_average_cost(\n",
    "    insight.insured_by_region[\"southeast\"]\n",
    ")\n",
    "print(f\"The average cost for the Northwest region is ${northwest_average}.\")\n",
    "print(f\"The average cost for the Northeast region is ${northeast_average}.\")\n",
    "print(f\"The average cost for the Southwest region is ${southwest_average}.\")\n",
    "print(f\"The average cost for the Southeast region is ${southeast_average}.\")\n"
   ]
  },
  {
   "cell_type": "markdown",
   "metadata": {},
   "source": [
    "### Smokers presence per region"
   ]
  },
  {
   "cell_type": "code",
   "execution_count": 18,
   "metadata": {},
   "outputs": [
    {
     "name": "stdout",
     "output_type": "stream",
     "text": [
      "Smokers represent 25.0% of the Southeast region.\n",
      "Smokers represent 21.0% of the Northeast region.\n",
      "Smokers represent 18.0% of the Southwest region.\n",
      "Smokers represent 18.0% of the Northwest region.\n"
     ]
    }
   ],
   "source": [
    "smokers_southeast = list(\n",
    "    filter(lambda insured: insured.smoker, insight.insured_by_region[\"southeast\"])\n",
    ")\n",
    "smokers_northeast = list(\n",
    "    filter(lambda insured: insured.smoker, insight.insured_by_region[\"northeast\"])\n",
    ")\n",
    "smokers_southwest = list(\n",
    "    filter(lambda insured: insured.smoker, insight.insured_by_region[\"southwest\"])\n",
    ")\n",
    "smokers_northwest = list(\n",
    "    filter(lambda insured: insured.smoker, insight.insured_by_region[\"northwest\"])\n",
    ")\n",
    "percentage_smokers_southeast = insight.calculate_percentage(\n",
    "    len(smokers_southeast), len(insight.insured_by_region[\"southeast\"])\n",
    ")\n",
    "percentage_smokers_northeast = insight.calculate_percentage(\n",
    "    len(smokers_northeast), len(insight.insured_by_region[\"northeast\"])\n",
    ")\n",
    "percentage_smokers_southwest = insight.calculate_percentage(\n",
    "    len(smokers_southwest), len(insight.insured_by_region[\"southwest\"])\n",
    ")\n",
    "percentage_smokers_northwest = insight.calculate_percentage(\n",
    "    len(smokers_northwest), len(insight.insured_by_region[\"northwest\"])\n",
    ")\n",
    "print(f\"Smokers represent {percentage_smokers_southeast}% of the Southeast region.\")\n",
    "print(f\"Smokers represent {percentage_smokers_northeast}% of the Northeast region.\")\n",
    "print(f\"Smokers represent {percentage_smokers_southwest}% of the Southwest region.\")\n",
    "print(f\"Smokers represent {percentage_smokers_northwest}% of the Northwest region.\")\n"
   ]
  },
  {
   "cell_type": "markdown",
   "metadata": {},
   "source": [
    "### Age group metrics\n",
    "\n",
    "Distributed in:\n",
    "\n",
    "* Under 18 (empty/no key was made)\n",
    "* 18 - 24\n",
    "* 25 - 34\n",
    "* 35 - 44\n",
    "* 45 - 54\n",
    "* 55 - 64\n",
    "* 65 and older (empty/no key was made)"
   ]
  },
  {
   "cell_type": "code",
   "execution_count": 19,
   "metadata": {},
   "outputs": [
    {
     "data": {
      "text/plain": [
       "dict_keys(['18-24', '25-34', '45-54', '35-44', '55-64'])"
      ]
     },
     "execution_count": 19,
     "metadata": {},
     "output_type": "execute_result"
    }
   ],
   "source": [
    "insight.insured_by_age.keys()\n"
   ]
  },
  {
   "cell_type": "code",
   "execution_count": 20,
   "metadata": {},
   "outputs": [
    {
     "name": "stdout",
     "output_type": "stream",
     "text": [
      "The age average of all the insured is 39.21 years old.\n",
      "The 18-24 age group represent 21.0% of all insured.\n",
      "The 25-34 age group represent 20.0% of all insured.\n",
      "The 35-44 age group represent 19.0% of all insured.\n",
      "The 45-54 age group represent 21.0% of all insured.\n",
      "The 55-64 age group represent 18.0% of all insured.\n"
     ]
    }
   ],
   "source": [
    "age_average = insight.calculate_average_age(insight.insured_list)\n",
    "percentage_for_18_24 = insight.calculate_percentage(\n",
    "    len(insight.insured_by_age[\"18-24\"]), total_of_insured\n",
    ")\n",
    "percentage_for_25_34 = insight.calculate_percentage(\n",
    "    len(insight.insured_by_age[\"25-34\"]), total_of_insured\n",
    ")\n",
    "percentage_for_35_44 = insight.calculate_percentage(\n",
    "    len(insight.insured_by_age[\"35-44\"]), total_of_insured\n",
    ")\n",
    "percentage_for_45_54 = insight.calculate_percentage(\n",
    "    len(insight.insured_by_age[\"45-54\"]), total_of_insured\n",
    ")\n",
    "percentage_for_55_64 = insight.calculate_percentage(\n",
    "    len(insight.insured_by_age[\"55-64\"]), total_of_insured\n",
    ")\n",
    "\n",
    "print(f\"The age average of all the insured is {age_average} years old.\")\n",
    "print(f\"The 18-24 age group represent {percentage_for_18_24}% of all insured.\")\n",
    "print(f\"The 25-34 age group represent {percentage_for_25_34}% of all insured.\")\n",
    "print(f\"The 35-44 age group represent {percentage_for_35_44}% of all insured.\")\n",
    "print(f\"The 45-54 age group represent {percentage_for_45_54}% of all insured.\")\n",
    "print(f\"The 55-64 age group represent {percentage_for_55_64}% of all insured.\")\n"
   ]
  },
  {
   "cell_type": "markdown",
   "metadata": {},
   "source": [
    "### Average charge per age group"
   ]
  },
  {
   "cell_type": "code",
   "execution_count": 21,
   "metadata": {},
   "outputs": [
    {
     "name": "stdout",
     "output_type": "stream",
     "text": [
      "The average charge for group age of 18-24 is: $9011.34 dollars.\n",
      "The average charge for group age of 25-34 is: $10352.39 dollars.\n",
      "The average charge for group age of 35-44 is: $13134.17 dollars.\n",
      "The average charge for group age of 45-54 is: $15853.93 dollars.\n",
      "The average charge for group age of 55-64 is: $18513.28 dollars.\n"
     ]
    }
   ],
   "source": [
    "average_cost_18_24 = insight.calculate_average_cost(insight.insured_by_age[\"18-24\"])\n",
    "average_cost_25_34 = insight.calculate_average_cost(insight.insured_by_age[\"25-34\"])\n",
    "average_cost_35_44 = insight.calculate_average_cost(insight.insured_by_age[\"35-44\"])\n",
    "average_cost_45_54 = insight.calculate_average_cost(insight.insured_by_age[\"45-54\"])\n",
    "average_cost_55_64 = insight.calculate_average_cost(insight.insured_by_age[\"55-64\"])\n",
    "\n",
    "print(f\"The average charge for group age of 18-24 is: ${average_cost_18_24} dollars.\")\n",
    "print(f\"The average charge for group age of 25-34 is: ${average_cost_25_34} dollars.\")\n",
    "print(f\"The average charge for group age of 35-44 is: ${average_cost_35_44} dollars.\")\n",
    "print(f\"The average charge for group age of 45-54 is: ${average_cost_45_54} dollars.\")\n",
    "print(f\"The average charge for group age of 55-64 is: ${average_cost_55_64} dollars.\")\n"
   ]
  },
  {
   "cell_type": "markdown",
   "metadata": {},
   "source": [
    "### Age average by region"
   ]
  },
  {
   "cell_type": "code",
   "execution_count": 22,
   "metadata": {},
   "outputs": [
    {
     "name": "stdout",
     "output_type": "stream",
     "text": [
      "The average age for Southeast region is: 38.94.\n",
      "The average age for Northeast region is: 39.27.\n",
      "The average age for Southwest region is: 39.46.\n",
      "The average age for Northwest region is: 39.2.\n"
     ]
    }
   ],
   "source": [
    "southeast_age_average = insight.calculate_average_age(\n",
    "    insight.insured_by_region[\"southeast\"]\n",
    ")\n",
    "northeast_age_average = insight.calculate_average_age(\n",
    "    insight.insured_by_region[\"northeast\"]\n",
    ")\n",
    "southwest_age_average = insight.calculate_average_age(\n",
    "    insight.insured_by_region[\"southwest\"]\n",
    ")\n",
    "northwest_age_average = insight.calculate_average_age(\n",
    "    insight.insured_by_region[\"northwest\"]\n",
    ")\n",
    "\n",
    "print(f\"The average age for Southeast region is: {southeast_age_average}.\")\n",
    "print(f\"The average age for Northeast region is: {northeast_age_average}.\")\n",
    "print(f\"The average age for Southwest region is: {southwest_age_average}.\")\n",
    "print(f\"The average age for Northwest region is: {northwest_age_average}.\")\n"
   ]
  },
  {
   "cell_type": "markdown",
   "metadata": {},
   "source": [
    "### BMI metrics"
   ]
  },
  {
   "cell_type": "markdown",
   "metadata": {},
   "source": [
    "Distributed in:\n",
    "\n",
    "* Underweight: less than 18.5\n",
    "* Normal weight: 18.5 - 24,9\n",
    "* Overweight: 25.0 - 29,9\n",
    "* Obesity first degree: 30.0 - 34,9\n",
    "* Obesity second degree: 35.0 - 39.9\n",
    "* Obesity third degree: more than 40.0"
   ]
  },
  {
   "cell_type": "code",
   "execution_count": 23,
   "metadata": {},
   "outputs": [
    {
     "data": {
      "text/plain": [
       "dict_keys(['Overweight', 'Obesity first degree', 'Normal weight', 'Obesity second degree', 'Obesity third degree', 'Underweight'])"
      ]
     },
     "execution_count": 23,
     "metadata": {},
     "output_type": "execute_result"
    }
   ],
   "source": [
    "insight.insured_by_bmi.keys()\n"
   ]
  },
  {
   "cell_type": "code",
   "execution_count": 24,
   "metadata": {},
   "outputs": [
    {
     "name": "stdout",
     "output_type": "stream",
     "text": [
      "People who is in the underweight range represents 1.0% of all insured.\n",
      "People who is in the normal weight range represents 17.0% of all insured.\n",
      "People who is in the overweight range represents 29.0% of all insured.\n",
      "People who is in the first degree obesity range represents 29.0% of all insured.\n",
      "People who is in the second degree obesity range represents 17.0% of all insured.\n",
      "People who is in the third degree obesity range represents 7.0% of all insured.\n"
     ]
    }
   ],
   "source": [
    "percentage_for_underweight = insight.calculate_percentage(\n",
    "    len(insight.insured_by_bmi[\"Underweight\"]), total_of_insured\n",
    ")\n",
    "percentage_for_normalweight = insight.calculate_percentage(\n",
    "    len(insight.insured_by_bmi[\"Normal weight\"]), total_of_insured\n",
    ")\n",
    "percentage_for_overweight = insight.calculate_percentage(\n",
    "    len(insight.insured_by_bmi[\"Overweight\"]), total_of_insured\n",
    ")\n",
    "percentage_for_obesity_first_degree = insight.calculate_percentage(\n",
    "    len(insight.insured_by_bmi[\"Obesity first degree\"]), total_of_insured\n",
    ")\n",
    "percentage_for_obesity_second_degree = insight.calculate_percentage(\n",
    "    len(insight.insured_by_bmi[\"Obesity second degree\"]), total_of_insured\n",
    ")\n",
    "percentage_for_obesity_third_degree = insight.calculate_percentage(\n",
    "    len(insight.insured_by_bmi[\"Obesity third degree\"]), total_of_insured\n",
    ")\n",
    "\n",
    "print(\n",
    "    f\"People who is in the underweight range represents {percentage_for_underweight}% of all insured.\"\n",
    ")\n",
    "print(\n",
    "    f\"People who is in the normal weight range represents {percentage_for_normalweight}% of all insured.\"\n",
    ")\n",
    "print(\n",
    "    f\"People who is in the overweight range represents {percentage_for_overweight}% of all insured.\"\n",
    ")\n",
    "print(\n",
    "    f\"People who is in the first degree obesity range represents {percentage_for_obesity_first_degree}% of all insured.\"\n",
    ")\n",
    "print(\n",
    "    f\"People who is in the second degree obesity range represents {percentage_for_obesity_second_degree}% of all insured.\"\n",
    ")\n",
    "print(\n",
    "    f\"People who is in the third degree obesity range represents {percentage_for_obesity_third_degree}% of all insured.\"\n",
    ")\n"
   ]
  },
  {
   "cell_type": "markdown",
   "metadata": {},
   "source": [
    "### Average bmi per all, gender, region"
   ]
  },
  {
   "cell_type": "code",
   "execution_count": 25,
   "metadata": {},
   "outputs": [
    {
     "name": "stdout",
     "output_type": "stream",
     "text": [
      "The average bmi for all insured is: 30.66.\n",
      "The average bmi for all insured women is: 30.38.\n",
      "The average bmi for all insured men is: 30.94.\n",
      "The average bmi for Southeast region is: 33.36.\n",
      "The average bmi for Northeast region is: 29.17.\n",
      "The average bmi for Southwest region is: 30.6.\n",
      "The average bmi for Northwest region is: 29.2.\n"
     ]
    }
   ],
   "source": [
    "bmi_average = insight.calculate_bmi_average(insight.insured_list)\n",
    "bmi_women = insight.calculate_bmi_average(insight.insured_by_gender[\"female\"])\n",
    "bmi_men = insight.calculate_bmi_average(insight.insured_by_gender[\"male\"])\n",
    "bmi_southeast = insight.calculate_bmi_average(insight.insured_by_region[\"southeast\"])\n",
    "bmi_northeast = insight.calculate_bmi_average(insight.insured_by_region[\"northeast\"])\n",
    "bmi_southwest = insight.calculate_bmi_average(insight.insured_by_region[\"southwest\"])\n",
    "bmi_northwest = insight.calculate_bmi_average(insight.insured_by_region[\"northwest\"])\n",
    "\n",
    "print(f\"The average bmi for all insured is: {bmi_average}.\")\n",
    "print(f\"The average bmi for all insured women is: {bmi_women}.\")\n",
    "print(f\"The average bmi for all insured men is: {bmi_men}.\")\n",
    "print(f\"The average bmi for Southeast region is: {bmi_southeast}.\")\n",
    "print(f\"The average bmi for Northeast region is: {bmi_northeast}.\")\n",
    "print(f\"The average bmi for Southwest region is: {bmi_southwest}.\")\n",
    "print(f\"The average bmi for Northwest region is: {bmi_northwest}.\")\n"
   ]
  },
  {
   "cell_type": "markdown",
   "metadata": {},
   "source": [
    "### Average bmi per age group"
   ]
  },
  {
   "cell_type": "code",
   "execution_count": 26,
   "metadata": {},
   "outputs": [
    {
     "name": "stdout",
     "output_type": "stream",
     "text": [
      "The average bmi for people between 18 and 24 years old is: 30.04.\n",
      "The average bmi for people between 25 and 34 years old is: 30.06.\n",
      "The average bmi for people between 35 and 44 years old is: 30.4.\n",
      "The average bmi for people between 45 and 54 years old is: 31.15.\n",
      "The average bmi for people between 55 and 64 years old is: 31.76.\n"
     ]
    }
   ],
   "source": [
    "average_bmi_18_24 = insight.calculate_bmi_average(insight.insured_by_age[\"18-24\"])\n",
    "average_bmi_25_34 = insight.calculate_bmi_average(insight.insured_by_age[\"25-34\"])\n",
    "average_bmi_35_44 = insight.calculate_bmi_average(insight.insured_by_age[\"35-44\"])\n",
    "average_bmi_45_54 = insight.calculate_bmi_average(insight.insured_by_age[\"45-54\"])\n",
    "average_bmi_55_64 = insight.calculate_bmi_average(insight.insured_by_age[\"55-64\"])\n",
    "\n",
    "print(\n",
    "    f\"The average bmi for people between 18 and 24 years old is: {average_bmi_18_24}.\"\n",
    ")\n",
    "print(\n",
    "    f\"The average bmi for people between 25 and 34 years old is: {average_bmi_25_34}.\"\n",
    ")\n",
    "print(\n",
    "    f\"The average bmi for people between 35 and 44 years old is: {average_bmi_35_44}.\"\n",
    ")\n",
    "print(\n",
    "    f\"The average bmi for people between 45 and 54 years old is: {average_bmi_45_54}.\"\n",
    ")\n",
    "print(\n",
    "    f\"The average bmi for people between 55 and 64 years old is: {average_bmi_55_64}.\"\n",
    ")\n"
   ]
  },
  {
   "cell_type": "markdown",
   "metadata": {},
   "source": [
    "### Average charge by bmi group"
   ]
  },
  {
   "cell_type": "code",
   "execution_count": 27,
   "metadata": {},
   "outputs": [
    {
     "name": "stdout",
     "output_type": "stream",
     "text": [
      "The average insurance charge for a underweight person is $8852.2 dollars.\n",
      "The average insurance charge for a normal weight person is $10379.5 dollars.\n",
      "The average insurance charge for a overweight person is $11000.08 dollars.\n",
      "The average insurance charge for a person with first degree obesity is $14298.84 dollars.\n",
      "The average insurance charge for a person with second degree obesity is $17226.63 dollars.\n",
      "The average insurance charge for a person with third degree obesity is $16707.66 dollars.\n"
     ]
    }
   ],
   "source": [
    "average_cost_underweight = insight.calculate_average_cost(\n",
    "    insight.insured_by_bmi[\"Underweight\"]\n",
    ")\n",
    "average_cost_normalweight = insight.calculate_average_cost(\n",
    "    insight.insured_by_bmi[\"Normal weight\"]\n",
    ")\n",
    "average_cost_overweight = insight.calculate_average_cost(\n",
    "    insight.insured_by_bmi[\"Overweight\"]\n",
    ")\n",
    "average_cost_obesity_first_degree = insight.calculate_average_cost(\n",
    "    insight.insured_by_bmi[\"Obesity first degree\"]\n",
    ")\n",
    "average_cost_obesity_second_degree = insight.calculate_average_cost(\n",
    "    insight.insured_by_bmi[\"Obesity second degree\"]\n",
    ")\n",
    "average_cost_obesity_third_degree = insight.calculate_average_cost(\n",
    "    insight.insured_by_bmi[\"Obesity third degree\"]\n",
    ")\n",
    "\n",
    "print(\n",
    "    f\"The average insurance charge for a underweight person is ${average_cost_underweight} dollars.\"\n",
    ")\n",
    "print(\n",
    "    f\"The average insurance charge for a normal weight person is ${average_cost_normalweight} dollars.\"\n",
    ")\n",
    "print(\n",
    "    f\"The average insurance charge for a overweight person is ${average_cost_overweight} dollars.\"\n",
    ")\n",
    "print(\n",
    "    f\"The average insurance charge for a person with first degree obesity is ${average_cost_obesity_first_degree} dollars.\"\n",
    ")\n",
    "print(\n",
    "    f\"The average insurance charge for a person with second degree obesity is ${average_cost_obesity_second_degree} dollars.\"\n",
    ")\n",
    "print(\n",
    "    f\"The average insurance charge for a person with third degree obesity is ${average_cost_obesity_third_degree} dollars.\"\n",
    ")\n"
   ]
  },
  {
   "cell_type": "markdown",
   "metadata": {},
   "source": [
    "## Insights\n",
    "\n"
   ]
  },
  {
   "cell_type": "markdown",
   "metadata": {},
   "source": [
    "* It has almost the same number of male and female insured, about 1% more of men.\n",
    "* The age group is well distributed. Each group age represent 18% to 20% of the insured.\n",
    "* People who have at least 1 child represent about 44% of the insured.\n",
    "* There are more male parent than women: 57% of women and 42% of men do not have children.\n",
    "* The average bmi is about 31.0 and more than 80% of all insured are overweighted.\n",
    "* Smokers represent 20% of the insured. \n",
    "* There are more resident of Southeast among the insured. They correspond to 27% of the insured."
   ]
  },
  {
   "cell_type": "markdown",
   "metadata": {},
   "source": [
    "* If we analyze the average cost, only considering gender, men would pay 11% more of insurance charge.\n",
    "* Number of children does not seem to be the cause for the difference of insurance charge between men and women.\n",
    "* It is possible to observe that smoker status influence more than anything the cost of insurance. Smoker tends to pay 280% more than non smokers.\n",
    "* Age, gender, bmi, number of children contribute for increasing the insurance cost.\n",
    "* Parents pay 13% more for insurance than people without children.\n",
    "* If we analyze only non smokers, women pay 8% more for insurance than men. \n",
    "* The residents of Southeast region pay more for insurance. Although the region per se does not affect the cost, the insured in this region are heavier and smoke more.\n",
    "* It was not possible to notice if a specific group age is more preoccupied of being insured than other groups. "
   ]
  }
 ],
 "metadata": {
  "kernelspec": {
   "display_name": "Python 3",
   "language": "python",
   "name": "python3"
  },
  "language_info": {
   "codemirror_mode": {
    "name": "ipython",
    "version": 3
   },
   "file_extension": ".py",
   "mimetype": "text/x-python",
   "name": "python",
   "nbconvert_exporter": "python",
   "pygments_lexer": "ipython3",
   "version": "3.9.7"
  }
 },
 "nbformat": 4,
 "nbformat_minor": 4
}
